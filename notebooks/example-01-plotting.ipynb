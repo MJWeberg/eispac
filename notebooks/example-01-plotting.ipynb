{
 "cells": [
  {
   "cell_type": "markdown",
   "metadata": {},
   "source": [
    "Here we assume that you have downloaded a file, selected the Fe XII 195 2c fitting template, and computed the fits. If not, see `QUICK_GUIDE-cli.md` for help.\n",
    "\n",
    "For this example we are working with the file `eis_20120924_105026`"
   ]
  },
  {
   "cell_type": "code",
   "execution_count": 1,
   "metadata": {},
   "outputs": [],
   "source": [
    "import eispac\n",
    "import matplotlib.pyplot as plt"
   ]
  },
  {
   "cell_type": "code",
   "execution_count": 2,
   "metadata": {},
   "outputs": [
    {
     "name": "stdout",
     "output_type": "stream",
     "text": [
      "Reading fit result from  data_eis/eis_20120924_105026.fe_12_195_119.2c-0.fit.h5\n"
     ]
    }
   ],
   "source": [
    "# read in the results of the fitting\n",
    "fit_filename = 'data_eis/eis_20120924_105026.fe_12_195_119.2c-0.fit.h5'\n",
    "fit = eispac.read_fit(fit_filename)"
   ]
  },
  {
   "cell_type": "code",
   "execution_count": 3,
   "metadata": {},
   "outputs": [
    {
     "name": "stdout",
     "output_type": "stream",
     "text": [
      "['Fe XII 195.119' 'Fe XII 195.179']\n"
     ]
    }
   ],
   "source": [
    "# this file contains a two-Gaussian fit to each line profile\n",
    "print(fit.fit['line_ids'])"
   ]
  },
  {
   "cell_type": "code",
   "execution_count": 4,
   "metadata": {},
   "outputs": [
    {
     "name": "stdout",
     "output_type": "stream",
     "text": [
      "(512, 180, 2)\n"
     ]
    }
   ],
   "source": [
    "# get all of the intensities\n",
    "intensity = fit.fit['int']\n",
    "print(intensity.shape)"
   ]
  },
  {
   "cell_type": "code",
   "execution_count": 5,
   "metadata": {},
   "outputs": [
    {
     "name": "stdout",
     "output_type": "stream",
     "text": [
      "0\n"
     ]
    }
   ],
   "source": [
    "# get the index for the main component (what's in the filename)\n",
    "component = fit.fit['main_component'] # the line of interest, could be multiple\n",
    "print(component)"
   ]
  },
  {
   "cell_type": "code",
   "execution_count": 6,
   "metadata": {},
   "outputs": [
    {
     "name": "stdout",
     "output_type": "stream",
     "text": [
      "(512, 180)\n"
     ]
    }
   ],
   "source": [
    "# get the intensity for just the Fe XII 195.119 line\n",
    "intensity = fit.fit['int'][:,:,component]\n",
    "line_id = fit.fit['line_ids'][component] # the line id for this line\n",
    "print(intensity.shape)"
   ]
  },
  {
   "cell_type": "code",
   "execution_count": 7,
   "metadata": {},
   "outputs": [
    {
     "name": "stdout",
     "output_type": "stream",
     "text": [
      " aspect = 0.50\n"
     ]
    }
   ],
   "source": [
    "# compute an intensity range over which to scale the image\n",
    "irange = eispac.util.calc_intensity_range(intensity)\n",
    "scaled = eispac.util.scale_intensity(intensity, irange)\n",
    "\n",
    "# one more thing, the EIS slit is often stepped more than 1 arcsec per step to increase the cadence\n",
    "# we need to get the aspect ratio for imshow\n",
    "aspect = fit.get_aspect_ratio()\n",
    "print(f' aspect = {aspect:.2f}')"
   ]
  },
  {
   "cell_type": "code",
   "execution_count": null,
   "metadata": {},
   "outputs": [],
   "source": [
    "# in the next part we'll plot a spectrum, define that point now\n",
    "point = [254,119]"
   ]
  },
  {
   "cell_type": "code",
   "execution_count": null,
   "metadata": {},
   "outputs": [],
   "source": [
    "fig, ax = plt.subplots(figsize=(10,10))\n",
    "\n",
    "ax.imshow(scaled, aspect=aspect, origin='lower', cmap='inferno', clim=(0,1))\n",
    "ax.set_title(line_id)\n",
    "ax.set_xlabel('Spatial Pixel (x)')\n",
    "ax.set_ylabel('Spatial Pixel (y)')\n",
    "ax.plot(point[1],point[0], 'o')\n",
    "plt.show()"
   ]
  },
  {
   "cell_type": "code",
   "execution_count": null,
   "metadata": {},
   "outputs": [],
   "source": [
    "# to plot a spectral profile and the fit, we need to read in the data file\n",
    "# the fit file only contains the fit parameters and some meta data\n",
    "\n",
    "data_filename = 'data_eis/eis_20120924_105026.data.h5' # also in fit.meta['filename_data']\n",
    "cube = eispac.read_cube(data_filename, 195.119)"
   ]
  },
  {
   "cell_type": "code",
   "execution_count": null,
   "metadata": {},
   "outputs": [],
   "source": [
    "# select a point to plot (note this is row, col)\n",
    "point = [254,119]\n",
    "\n",
    "data_x = cube.wavelength[point[0], point[1], :]\n",
    "data_y = cube.data[point[0], point[1], :]\n",
    "fit_x, fit_y = fit.get_fit_profile(coords=point, num_wavelengths=100)"
   ]
  },
  {
   "cell_type": "code",
   "execution_count": null,
   "metadata": {},
   "outputs": [],
   "source": [
    "# get some fit parameters\n",
    "\n",
    "ints = intensity[point[0],point[1]]\n",
    "p, perrpr = fit.get_params(component=component, coords=point)\n",
    "\n",
    "print(f' intensity = {ints:.1f} erg/cm^2/s/sr')\n",
    "print(f'      peak = {p[0]:.1f}')\n",
    "print(f'  centroid = {p[1]:.3f}')\n",
    "print(f'     sigma = {p[2]:.4f}')"
   ]
  },
  {
   "cell_type": "code",
   "execution_count": null,
   "metadata": {},
   "outputs": [],
   "source": [
    "# plot the profile and the fit\n",
    "\n",
    "fig = plt.figure(figsize=(10,5))\n",
    "plt.step(data_x, data_y, where='mid', label='data')\n",
    "plt.plot(fit_x, fit_y, label='fit')\n",
    "plt.ylabel('Intensity ($\\mathrm{erg/cm^2/s/sr/\\AA}$)')\n",
    "plt.xlabel('Wavelength ($\\mathrm{\\AA}$)')\n",
    "plt.legend()\n",
    "plt.show()"
   ]
  }
 ],
 "metadata": {
  "kernelspec": {
   "display_name": "Python 3",
   "language": "python",
   "name": "python3"
  },
  "language_info": {
   "codemirror_mode": {
    "name": "ipython",
    "version": 3
   },
   "file_extension": ".py",
   "mimetype": "text/x-python",
   "name": "python",
   "nbconvert_exporter": "python",
   "pygments_lexer": "ipython3",
   "version": "3.8.5"
  }
 },
 "nbformat": 4,
 "nbformat_minor": 4
}
